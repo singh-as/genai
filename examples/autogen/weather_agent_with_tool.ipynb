{
 "cells": [
  {
   "cell_type": "code",
   "execution_count": 1,
   "id": "8bda07a7-6e2b-47f4-8a59-44a90de55200",
   "metadata": {},
   "outputs": [],
   "source": [
    "import asyncio\n",
    "import os\n",
    "import httpx\n",
    "from autogen_agentchat.agents import AssistantAgent\n",
    "from autogen_ext.models.openai import OpenAIChatCompletionClient\n",
    "from autogen_core import CancellationToken\n",
    "from autogen_agentchat.messages import TextMessage"
   ]
  },
  {
   "cell_type": "code",
   "execution_count": 2,
   "id": "a16abab7-d815-44e1-8c24-148d80d3a13b",
   "metadata": {},
   "outputs": [],
   "source": [
    "model_client = OpenAIChatCompletionClient(\n",
    "    model=\"llama3.2\",\n",
    "    base_url=\"http://localhost:11434/v1\",\n",
    "    model_info={\n",
    "        \"vision\": False,\n",
    "        \"function_calling\": True,\n",
    "        \"json_output\": True,\n",
    "        \"family\": \"unknown\",\n",
    "    },\n",
    "    seed=42, \n",
    "    temperature=0,\n",
    ")"
   ]
  },
  {
   "cell_type": "code",
   "execution_count": 3,
   "id": "97e08918-f461-47b6-9abf-a5ebabf343be",
   "metadata": {},
   "outputs": [],
   "source": [
    "weather_api_url = 'http://api.weatherapi.com/v1/current.json'\n",
    "params = {\n",
    "    'key': os.environ['WEATHER_API_KEY'],\n",
    "    'aqi': 'no'\n",
    "}"
   ]
  },
  {
   "cell_type": "code",
   "execution_count": 4,
   "id": "0bb46166-ef98-47df-90f9-631f766943f0",
   "metadata": {},
   "outputs": [],
   "source": [
    "def get_weather(location: str) -> str:\n",
    "    params.update({'q': location})\n",
    "    response = httpx.get(weather_api_url, params=params)\n",
    "    return response.json()"
   ]
  },
  {
   "cell_type": "code",
   "execution_count": 7,
   "id": "0903e440-6995-4fe3-869a-0a62a92ae56c",
   "metadata": {},
   "outputs": [
    {
     "name": "stdin",
     "output_type": "stream",
     "text": [
      "User:  Cumming, GA\n"
     ]
    },
    {
     "name": "stdout",
     "output_type": "stream",
     "text": [
      "Weather Reporter: Here's a summary of the current weather conditions in Cumming, Georgia:\n",
      "\n",
      "**Current Weather Conditions:**\n",
      "\n",
      "* Temperature: 13.3°C (55.9°F)\n",
      "* Condition: Clear\n",
      "* Wind Speed: 4 km/h (NW direction)\n",
      "* Humidity: 49%\n",
      "* Precipitation: 0 mm (no rain)\n",
      "* Pressure: 1016 mb\n",
      "\n",
      "Overall, it's a clear and calm night in Cumming with a gentle breeze from the northwest.\n"
     ]
    },
    {
     "name": "stdin",
     "output_type": "stream",
     "text": [
      "User:  Charlotte, NC\n"
     ]
    },
    {
     "name": "stdout",
     "output_type": "stream",
     "text": [
      "Weather Reporter: Here's a summary of the current weather conditions in Charlotte, North Carolina:\n",
      "\n",
      "**Current Weather Conditions:**\n",
      "\n",
      "* Temperature: 11.1°C (52.0°F)\n",
      "* Condition: Clear\n",
      "* Wind Speed: 4 km/h (SSW direction)\n",
      "* Humidity: 41%\n",
      "* Precipitation: 0 mm (no rain)\n",
      "* Pressure: 1016 mb\n",
      "\n",
      "Overall, it's a clear and calm night in Charlotte with a gentle breeze from the southwest. The temperature is relatively cool compared to Cumming, Georgia, which reported a higher temperature of 13.3°C (55.9°F).\n"
     ]
    },
    {
     "name": "stdin",
     "output_type": "stream",
     "text": [
      "User:  exit\n"
     ]
    }
   ],
   "source": [
    "async def main() -> None:\n",
    "    assistant = AssistantAgent(\n",
    "        name=\"assistant\",\n",
    "        system_message=\"You are a helpful assistant. You can call tools to help user.\",\n",
    "        model_client=model_client,\n",
    "        tools=[get_weather],\n",
    "        reflect_on_tool_use=False, # Set to True to have the model reflect on the tool use, set to False to return the tool call result directly.\n",
    "    )\n",
    "    weather_reporter = AssistantAgent(\n",
    "        name=\"weather_reporter\",\n",
    "        system_message=\"You are a Weather Reporter. You read weather condition and summarize it.\",\n",
    "        model_client=model_client,\n",
    "    )\n",
    "    \n",
    "    while True:\n",
    "        user_input = input(\"User: \")\n",
    "        if user_input == \"exit\":\n",
    "            break\n",
    "        response = await assistant.on_messages([TextMessage(content=user_input, source=\"user\")], CancellationToken())\n",
    "\n",
    "        weather_summary = await weather_reporter.on_messages([TextMessage(content=response.chat_message.content, source=\"user\")], CancellationToken())\n",
    "        print(\"Weather Reporter:\", weather_summary.chat_message.content)\n",
    "\n",
    "await main()"
   ]
  },
  {
   "cell_type": "code",
   "execution_count": null,
   "id": "fd9d87a8-cd5f-484a-8087-04276308de03",
   "metadata": {},
   "outputs": [],
   "source": []
  }
 ],
 "metadata": {
  "kernelspec": {
   "display_name": "Python 3 (ipykernel)",
   "language": "python",
   "name": "python3"
  },
  "language_info": {
   "codemirror_mode": {
    "name": "ipython",
    "version": 3
   },
   "file_extension": ".py",
   "mimetype": "text/x-python",
   "name": "python",
   "nbconvert_exporter": "python",
   "pygments_lexer": "ipython3",
   "version": "3.12.8"
  }
 },
 "nbformat": 4,
 "nbformat_minor": 5
}
